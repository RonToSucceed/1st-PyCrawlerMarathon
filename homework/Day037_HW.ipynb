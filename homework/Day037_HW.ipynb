{
 "cells": [
  {
   "cell_type": "markdown",
   "metadata": {},
   "source": [
    "# 自動化更新機制\n",
    "\n",
    "\n",
    "* 如何定期執行爬蟲程式\n",
    "* 更新時需要注意的事情是什麼？\n"
   ]
  },
  {
   "cell_type": "markdown",
   "metadata": {},
   "source": [
    "## 作業目標\n",
    "\n",
    "* 列舉一個是需要用自動化更新的機制來達成的爬蟲應用。\n",
    "\n",
    "Ans: 股市的浮動交易價格"
   ]
  },
  {
   "cell_type": "markdown",
   "metadata": {},
   "source": [
    "### 方法一：在迴圈中加上 Sleep"
   ]
  },
  {
   "cell_type": "code",
   "execution_count": 1,
   "metadata": {},
   "outputs": [
    {
     "name": "stdout",
     "output_type": "stream",
     "text": [
      "2020-01-20 00:12:47\n",
      "2020-01-20 00:12:49\n",
      "2020-01-20 00:12:51\n",
      "2020-01-20 00:12:53\n",
      "2020-01-20 00:12:55\n"
     ]
    }
   ],
   "source": [
    "import time\n",
    "\n",
    "def timer(): \n",
    "    print(time.strftime('%Y-%m-%d %X', time.localtime()))  # %X  等於 %H:%M:%S\n",
    "    return\n",
    "\n",
    "count = 0\n",
    "while True:  \n",
    "    timer()\n",
    "    time.sleep(2)\n",
    "    count += 1\n",
    "    if count >= 5:\n",
    "        break\n"
   ]
  },
  {
   "cell_type": "markdown",
   "metadata": {},
   "source": [
    "### 方法二：利用 threading 的 Timer"
   ]
  },
  {
   "cell_type": "code",
   "execution_count": 4,
   "metadata": {},
   "outputs": [
    {
     "name": "stdout",
     "output_type": "stream",
     "text": [
      "2020-01-20 00:13:36\n",
      "2020-01-20 00:13:38\n",
      "2020-01-20 00:13:40\n",
      "2020-01-20 00:13:42\n"
     ]
    }
   ],
   "source": [
    "import time\n",
    "from threading import Timer\n",
    "\n",
    "def printHello(count):\n",
    "    count += 1\n",
    "    if count >= 5:\n",
    "        return\n",
    "    print(time.strftime('%Y-%m-%d %X', time.localtime()))\n",
    "    #time.sleep(2)\n",
    "    #printHello(count)  這兩行結果跟下面一樣\n",
    "    t = Timer(2, printHello, (count,)) \n",
    "    t.start() \n",
    "\n",
    "count = 0\n",
    "printHello(count)"
   ]
  },
  {
   "cell_type": "markdown",
   "metadata": {},
   "source": [
    "### 方法三：第三方套件 schedule"
   ]
  },
  {
   "cell_type": "code",
   "execution_count": 3,
   "metadata": {},
   "outputs": [
    {
     "name": "stdout",
     "output_type": "stream",
     "text": [
      "2020-01-20 00:12:59\n",
      "2020-01-20 00:12:59\n",
      "2020-01-20 00:13:012020-01-20 00:13:01\n",
      "\n",
      "2020-01-20 00:13:03\n",
      "2020-01-20 00:13:03\n",
      "2020-01-20 00:13:05\n",
      "2020-01-20 00:13:07\n",
      "2020-01-20 00:13:09\n",
      "2020-01-20 00:13:11\n",
      "2020-01-20 00:13:13\n",
      "2020-01-20 00:13:15\n",
      "2020-01-20 00:13:17\n",
      "2020-01-20 00:13:19\n",
      "2020-01-20 00:13:21\n",
      "2020-01-20 00:13:23\n",
      "2020-01-20 00:13:25\n",
      "2020-01-20 00:13:27\n",
      "2020-01-20 00:13:29\n",
      "2020-01-20 00:13:31\n"
     ]
    },
    {
     "ename": "KeyboardInterrupt",
     "evalue": "",
     "output_type": "error",
     "traceback": [
      "\u001b[1;31m---------------------------------------------------------------------------\u001b[0m",
      "\u001b[1;31mKeyboardInterrupt\u001b[0m                         Traceback (most recent call last)",
      "\u001b[1;32m<ipython-input-3-939855980296>\u001b[0m in \u001b[0;36m<module>\u001b[1;34m\u001b[0m\n\u001b[0;32m      8\u001b[0m \u001b[1;33m\u001b[0m\u001b[0m\n\u001b[0;32m      9\u001b[0m \u001b[1;32mwhile\u001b[0m \u001b[1;32mTrue\u001b[0m\u001b[1;33m:\u001b[0m\u001b[1;33m\u001b[0m\u001b[1;33m\u001b[0m\u001b[0m\n\u001b[1;32m---> 10\u001b[1;33m     \u001b[0mschedule\u001b[0m\u001b[1;33m.\u001b[0m\u001b[0mrun_pending\u001b[0m\u001b[1;33m(\u001b[0m\u001b[1;33m)\u001b[0m\u001b[1;33m\u001b[0m\u001b[1;33m\u001b[0m\u001b[0m\n\u001b[0m",
      "\u001b[1;32mD:\\anaconda\\lib\\site-packages\\schedule\\__init__.py\u001b[0m in \u001b[0;36mrun_pending\u001b[1;34m()\u001b[0m\n\u001b[0;32m    561\u001b[0m     \u001b[1;33m:\u001b[0m\u001b[0mdata\u001b[0m\u001b[1;33m:\u001b[0m\u001b[0;31m`\u001b[0m\u001b[0mdefault\u001b[0m \u001b[0mscheduler\u001b[0m \u001b[0minstance\u001b[0m \u001b[1;33m<\u001b[0m\u001b[0mdefault_scheduler\u001b[0m\u001b[1;33m>\u001b[0m\u001b[0;31m`\u001b[0m\u001b[1;33m.\u001b[0m\u001b[1;33m\u001b[0m\u001b[1;33m\u001b[0m\u001b[0m\n\u001b[0;32m    562\u001b[0m     \"\"\"\n\u001b[1;32m--> 563\u001b[1;33m     \u001b[0mdefault_scheduler\u001b[0m\u001b[1;33m.\u001b[0m\u001b[0mrun_pending\u001b[0m\u001b[1;33m(\u001b[0m\u001b[1;33m)\u001b[0m\u001b[1;33m\u001b[0m\u001b[1;33m\u001b[0m\u001b[0m\n\u001b[0m\u001b[0;32m    564\u001b[0m \u001b[1;33m\u001b[0m\u001b[0m\n\u001b[0;32m    565\u001b[0m \u001b[1;33m\u001b[0m\u001b[0m\n",
      "\u001b[1;31mKeyboardInterrupt\u001b[0m: "
     ]
    }
   ],
   "source": [
    "import schedule\n",
    "import time\n",
    "\n",
    "def job():        \n",
    "    print(time.strftime('%Y-%m-%d %X', time.localtime()))\n",
    "\n",
    "schedule.every(2).seconds.do(job)\n",
    "\n",
    "while True:\n",
    "    schedule.run_pending()"
   ]
  },
  {
   "cell_type": "code",
   "execution_count": null,
   "metadata": {},
   "outputs": [],
   "source": []
  }
 ],
 "metadata": {
  "kernelspec": {
   "display_name": "Python 3",
   "language": "python",
   "name": "python3"
  },
  "language_info": {
   "codemirror_mode": {
    "name": "ipython",
    "version": 3
   },
   "file_extension": ".py",
   "mimetype": "text/x-python",
   "name": "python",
   "nbconvert_exporter": "python",
   "pygments_lexer": "ipython3",
   "version": "3.7.4"
  }
 },
 "nbformat": 4,
 "nbformat_minor": 2
}
