{
 "cells": [
  {
   "cell_type": "markdown",
   "metadata": {
    "colab_type": "text",
    "id": "I8CoX4R7VoCd"
   },
   "source": [
    "# 反爬：代理伺服器/IP\n",
    "\n",
    "* 了解「IP 黑/白名單」的反爬蟲機制\n",
    "* 「IP 黑/白名單」反爬蟲的因應策略"
   ]
  },
  {
   "cell_type": "markdown",
   "metadata": {
    "colab_type": "text",
    "id": "n-3DZ_r5VoCe"
   },
   "source": [
    "## 作業目標\n",
    "\n",
    "* 目前程式中的 proxy_ips 是手動輸入的，請根據 https://free-proxy-list.net/ 寫一個可自動化抓取可用 Proxy 的 proxy_ips。\n",
    "\n",
    "\n"
   ]
  },
  {
   "cell_type": "code",
   "execution_count": 1,
   "metadata": {},
   "outputs": [],
   "source": [
    "from bs4 import BeautifulSoup\n",
    "import requests\n",
    "import random   #random.choice() 需要"
   ]
  },
  {
   "cell_type": "code",
   "execution_count": 2,
   "metadata": {},
   "outputs": [
    {
     "name": "stdout",
     "output_type": "stream",
     "text": [
      "80.255.91.38:43360\n",
      "124.120.195.23:8118\n",
      "144.91.121.20:8080\n",
      "41.87.29.130:8080\n",
      "109.195.23.223:34542\n",
      "117.255.220.106:53281\n",
      "85.10.219.102:1080\n",
      "200.89.174.245:3128\n",
      "80.240.115.254:36539\n",
      "5.9.218.105:1080\n",
      "27.145.78.58:8118\n",
      "85.10.219.101:1080\n",
      "202.138.236.35:31173\n",
      "185.17.134.149:60964\n",
      "110.168.25.29:8118\n",
      "200.128.62.2:8080\n",
      "124.120.235.157:8118\n",
      "124.122.179.246:8118\n",
      "124.122.179.249:8118\n",
      "124.121.13.70:8118\n"
     ]
    }
   ],
   "source": [
    "res = requests.get('https://free-proxy-list.net/')\n",
    "soup = BeautifulSoup(res.text,'html5lib')\n",
    "#解析器文章 https://blog.csdn.net/Winterto1990/article/details/47806175\n",
    "\n",
    "\n",
    "IP = soup.find_all('td')\n",
    "proxy_ips = []\n",
    "for i, ip in enumerate(IP):\n",
    "    if(i/8==20): #只有20筆資料 (但是會有超出範圍的資料不知道哪裡來的)\n",
    "        break\n",
    "    if(i%8 ==0):  \n",
    "        temp = ip.text\n",
    "    elif(i%8 ==1):\n",
    "        temp += ':' + ip.text  #完整IP是 IP Address : Port\n",
    "        proxy_ips.append(temp)\n",
    "for ip in proxy_ips:\n",
    "    print(ip)"
   ]
  },
  {
   "cell_type": "code",
   "execution_count": 5,
   "metadata": {
    "colab": {},
    "colab_type": "code",
    "id": "75dIsHjiVoCi"
   },
   "outputs": [
    {
     "name": "stdout",
     "output_type": "stream",
     "text": [
      "Use 202.138.236.35:31173\n",
      "Your IP address: 202.138.236.35\n",
      "Use 109.195.23.223:34542\n",
      "Your IP address: 109.195.23.223\n",
      "Use 41.87.29.130:8080\n",
      "2 Fail\n",
      "Use 85.10.219.101:1080\n",
      "3 Fail\n",
      "Use 185.17.134.149:60964\n",
      "4 Fail\n",
      "Use 80.240.115.254:36539\n",
      "Your IP address: 80.240.115.254\n",
      "Use 41.87.29.130:8080\n",
      "Your IP address: 41.87.29.130\n",
      "Use 85.10.219.101:1080\n",
      "7 Fail\n",
      "Use 124.122.179.249:8118\n",
      "8 Fail\n",
      "Use 200.128.62.2:8080\n",
      "Your IP address: 200.128.62.2\n",
      "Use 200.89.174.245:3128\n",
      "Your IP address: 200.89.174.245\n",
      "Use 80.255.91.38:43360\n",
      "11 Fail\n",
      "Use 185.17.134.149:60964\n",
      "Your IP address: 185.17.134.149\n",
      "Use 110.168.25.29:8118\n",
      "13 Fail\n",
      "Use 110.168.25.29:8118\n",
      "14 Fail\n",
      "Use 144.91.121.20:8080\n",
      "Your IP address: 144.91.121.20\n",
      "Use 200.89.174.245:3128\n",
      "Your IP address: 200.89.174.245\n",
      "Use 109.195.23.223:34542\n",
      "Your IP address: 109.195.23.223\n",
      "Use 85.10.219.102:1080\n",
      "18 Fail\n",
      "Use 85.10.219.102:1080\n",
      "19 Fail\n"
     ]
    }
   ],
   "source": [
    "for i in range(20):\n",
    "    ip = random.choice(proxy_ips)\n",
    "    #ip = proxy_ips[i]\n",
    "    print('Use', ip)\n",
    "    try:\n",
    "        resp = requests.get('http://ip.filefab.com/index.php',\n",
    "                        proxies={'http': ip, 'https': ip}, timeout=10)\n",
    "        soup = BeautifulSoup(resp.text, 'html5lib')\n",
    "        print(soup.find('h1', id='ipd').text.strip())\n",
    "    except:\n",
    "        print(i, end=' ')\n",
    "        print('Fail') #不是每個IP都可以成功使用"
   ]
  },
  {
   "cell_type": "code",
   "execution_count": 1,
   "metadata": {},
   "outputs": [],
   "source": [
    "#試著爬完全部的IP "
   ]
  },
  {
   "cell_type": "code",
   "execution_count": null,
   "metadata": {},
   "outputs": [],
   "source": []
  }
 ],
 "metadata": {
  "colab": {
   "name": "homework.ipynb",
   "provenance": []
  },
  "kernelspec": {
   "display_name": "Python 3",
   "language": "python",
   "name": "python3"
  },
  "language_info": {
   "codemirror_mode": {
    "name": "ipython",
    "version": 3
   },
   "file_extension": ".py",
   "mimetype": "text/x-python",
   "name": "python",
   "nbconvert_exporter": "python",
   "pygments_lexer": "ipython3",
   "version": "3.7.4"
  }
 },
 "nbformat": 4,
 "nbformat_minor": 1
}
