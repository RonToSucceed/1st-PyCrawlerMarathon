{
 "cells": [
  {
   "cell_type": "markdown",
   "metadata": {},
   "source": [
    "# Python 下載XML檔案與解析\n",
    "\n",
    "\n",
    "* 了解 xml 檔案格式與內容\n",
    "* 能夠利用套件存取 xml 格式的檔案\n"
   ]
  },
  {
   "cell_type": "markdown",
   "metadata": {},
   "source": [
    "## 作業目標\n",
    "\n",
    "* 比較一下範例檔案中的「File I/O」與「xmltodict」讀出來的內容有什麼差異\n",
    "\n",
    "* 根據範例檔案的結果：\n",
    "    1. 請問高雄市有多少地區有溫度資料？\n",
    "    2. 請取出每一個地區所記錄的第一個時間點跟溫度\n",
    "    3. 請取出第一個地區所記錄的每一個時間點跟溫度"
   ]
  },
  {
   "cell_type": "markdown",
   "metadata": {},
   "source": [
    "### 比較一下範例檔案中的「File I/O」與「xmltodict」讀出來的內容有什麼差異\n",
    "File I/O 在資料的前後都會有<>包住 <屬性> 資料內容 </屬性> \n",
    "\n",
    "觀看屬性上較為方便，一行只有一個屬性資料\n",
    "\n",
    "xmltodict 為dictionary的資料型態，呼叫方式和陣列方式一樣\n",
    "\n",
    "觀看屬性上較為麻煩，因為巢狀結構的關係，會使他層層包起來，看起來眼花撩亂\n"
   ]
  },
  {
   "cell_type": "code",
   "execution_count": 141,
   "metadata": {},
   "outputs": [
    {
     "name": "stdout",
     "output_type": "stream",
     "text": [
      "File I/O is  <class 'str'>\n",
      "xmltodict is  <class 'dict'>\n"
     ]
    }
   ],
   "source": [
    "import os, sys\n",
    "with open('./sample.xml', \"r\",encoding='utf-8') as fh:\n",
    "    f = fh.read()\n",
    "\n",
    "import xmltodict\n",
    "with open('./sample.xml',encoding='utf-8') as fd:\n",
    "    doc = dict(xmltodict.parse(fd.read()))\n",
    "\n",
    "print('File I/O is ', type(f))\n",
    "print('xmltodict is ',type(doc))"
   ]
  },
  {
   "cell_type": "markdown",
   "metadata": {},
   "source": [
    "### 根據範例檔案的結果：\n",
    "\n",
    "1. 請問高雄市有多少地區有溫度資料？\n",
    "2. 請取出每一個地區所記錄的第一個時間點跟溫度\n",
    "3. 請取出第一個地區所記錄的每一個時間點跟溫度"
   ]
  },
  {
   "cell_type": "code",
   "execution_count": 123,
   "metadata": {},
   "outputs": [],
   "source": [
    "import xmltodict #可以將xml轉乘dictionary 的函式庫\n",
    "\n",
    "with open('./example/64_72HR_CH.xml','r',encoding='utf-8') as fd:  #要記得冒號:\n",
    "    doc = dict(xmltodict.parse(fd.read()))  \n",
    "# 把讀取的檔案轉為dict"
   ]
  },
  {
   "cell_type": "code",
   "execution_count": 127,
   "metadata": {},
   "outputs": [
    {
     "name": "stdout",
     "output_type": "stream",
     "text": [
      "38\n"
     ]
    }
   ],
   "source": [
    "# 1. 請問高雄市有多少地區有溫度資料？\n",
    "AllLoc = doc['cwbopendata']['dataset']['locations']['location']\n",
    "print(len(AllLoc))\n",
    "#for loc in AllLoc:\n",
    "    #print(loc['locationName'])"
   ]
  },
  {
   "cell_type": "code",
   "execution_count": 125,
   "metadata": {},
   "outputs": [
    {
     "name": "stdout",
     "output_type": "stream",
     "text": [
      "鹽埕區, 2019-06-28T12:00:00+08:00, 33 攝氏度\n",
      "鼓山區, 2019-06-28T12:00:00+08:00, 33 攝氏度\n",
      "左營區, 2019-06-28T12:00:00+08:00, 33 攝氏度\n",
      "楠梓區, 2019-06-28T12:00:00+08:00, 34 攝氏度\n",
      "三民區, 2019-06-28T12:00:00+08:00, 32 攝氏度\n",
      "新興區, 2019-06-28T12:00:00+08:00, 33 攝氏度\n",
      "前金區, 2019-06-28T12:00:00+08:00, 33 攝氏度\n",
      "苓雅區, 2019-06-28T12:00:00+08:00, 33 攝氏度\n",
      "前鎮區, 2019-06-28T12:00:00+08:00, 33 攝氏度\n",
      "旗津區, 2019-06-28T12:00:00+08:00, 32 攝氏度\n",
      "小港區, 2019-06-28T12:00:00+08:00, 33 攝氏度\n",
      "鳳山區, 2019-06-28T12:00:00+08:00, 34 攝氏度\n",
      "林園區, 2019-06-28T12:00:00+08:00, 33 攝氏度\n",
      "大寮區, 2019-06-28T12:00:00+08:00, 34 攝氏度\n",
      "大樹區, 2019-06-28T12:00:00+08:00, 34 攝氏度\n",
      "大社區, 2019-06-28T12:00:00+08:00, 34 攝氏度\n",
      "仁武區, 2019-06-28T12:00:00+08:00, 33 攝氏度\n",
      "鳥松區, 2019-06-28T12:00:00+08:00, 34 攝氏度\n",
      "岡山區, 2019-06-28T12:00:00+08:00, 34 攝氏度\n",
      "橋頭區, 2019-06-28T12:00:00+08:00, 35 攝氏度\n",
      "燕巢區, 2019-06-28T12:00:00+08:00, 34 攝氏度\n",
      "田寮區, 2019-06-28T12:00:00+08:00, 34 攝氏度\n",
      "阿蓮區, 2019-06-28T12:00:00+08:00, 34 攝氏度\n",
      "路竹區, 2019-06-28T12:00:00+08:00, 33 攝氏度\n",
      "湖內區, 2019-06-28T12:00:00+08:00, 33 攝氏度\n",
      "茄萣區, 2019-06-28T12:00:00+08:00, 33 攝氏度\n",
      "永安區, 2019-06-28T12:00:00+08:00, 32 攝氏度\n",
      "彌陀區, 2019-06-28T12:00:00+08:00, 32 攝氏度\n",
      "梓官區, 2019-06-28T12:00:00+08:00, 32 攝氏度\n",
      "旗山區, 2019-06-28T12:00:00+08:00, 34 攝氏度\n",
      "美濃區, 2019-06-28T12:00:00+08:00, 34 攝氏度\n",
      "六龜區, 2019-06-28T12:00:00+08:00, 34 攝氏度\n",
      "甲仙區, 2019-06-28T12:00:00+08:00, 33 攝氏度\n",
      "杉林區, 2019-06-28T12:00:00+08:00, 36 攝氏度\n",
      "內門區, 2019-06-28T12:00:00+08:00, 34 攝氏度\n",
      "茂林區, 2019-06-28T12:00:00+08:00, 34 攝氏度\n",
      "桃源區, 2019-06-28T12:00:00+08:00, 31 攝氏度\n",
      "那瑪夏區, 2019-06-28T12:00:00+08:00, 29 攝氏度\n"
     ]
    }
   ],
   "source": [
    "# 2. 請取出每一個地區所記錄的第一個時間點跟溫度\n",
    "AllLoc = doc['cwbopendata']['dataset']['locations']['location']\n",
    "for loc in AllLoc:\n",
    "    print(loc['locationName'],end=', ')\n",
    "    print(loc['weatherElement'][0]['time'][0]['dataTime'],end=', ')\n",
    "    print(loc['weatherElement'][0]['time'][0]['elementValue']['value'],end=' ')\n",
    "    print(loc['weatherElement'][0]['time'][0]['elementValue']['measures'])\n",
    "    #['weatherElement'][0] 為第一個紀錄的天氣數據(0為溫度)\n",
    "    #['time'][0] 為 紀錄的第一個時間"
   ]
  },
  {
   "cell_type": "code",
   "execution_count": 128,
   "metadata": {},
   "outputs": [
    {
     "name": "stdout",
     "output_type": "stream",
     "text": [
      "鹽埕區\n",
      "2019-06-28T12:00:00+08:00, 33 攝氏度\n",
      "2019-06-28T15:00:00+08:00, 33 攝氏度\n",
      "2019-06-28T18:00:00+08:00, 32 攝氏度\n",
      "2019-06-28T21:00:00+08:00, 30 攝氏度\n",
      "2019-06-29T00:00:00+08:00, 30 攝氏度\n",
      "2019-06-29T03:00:00+08:00, 29 攝氏度\n",
      "2019-06-29T06:00:00+08:00, 28 攝氏度\n",
      "2019-06-29T09:00:00+08:00, 31 攝氏度\n",
      "2019-06-29T12:00:00+08:00, 32 攝氏度\n",
      "2019-06-29T15:00:00+08:00, 32 攝氏度\n",
      "2019-06-29T18:00:00+08:00, 31 攝氏度\n",
      "2019-06-29T21:00:00+08:00, 30 攝氏度\n",
      "2019-06-30T00:00:00+08:00, 29 攝氏度\n",
      "2019-06-30T03:00:00+08:00, 28 攝氏度\n",
      "2019-06-30T06:00:00+08:00, 28 攝氏度\n",
      "2019-06-30T09:00:00+08:00, 31 攝氏度\n",
      "2019-06-30T12:00:00+08:00, 32 攝氏度\n",
      "2019-06-30T15:00:00+08:00, 32 攝氏度\n",
      "2019-06-30T18:00:00+08:00, 31 攝氏度\n",
      "2019-06-30T21:00:00+08:00, 30 攝氏度\n",
      "2019-07-01T00:00:00+08:00, 29 攝氏度\n",
      "2019-07-01T03:00:00+08:00, 29 攝氏度\n",
      "2019-07-01T06:00:00+08:00, 28 攝氏度\n",
      "2019-07-01T09:00:00+08:00, 31 攝氏度\n"
     ]
    }
   ],
   "source": [
    "# 3. 請取出第一個地區所記錄的每一個時間點跟溫度\n",
    "\n",
    "AllLoc = doc['cwbopendata']['dataset']['locations']['location']\n",
    "firstLoc=AllLoc[0]\n",
    "print(firstLoc['locationName'])\n",
    "for data in firstLoc['weatherElement'][0]['time']:  #weatherElement[0] 為溫度\n",
    "    print(data['dataTime'],end=', ')\n",
    "    print(data['elementValue']['value'],end=' ')\n",
    "    print(data['elementValue']['measures'])"
   ]
  },
  {
   "cell_type": "code",
   "execution_count": null,
   "metadata": {},
   "outputs": [],
   "source": []
  },
  {
   "cell_type": "code",
   "execution_count": null,
   "metadata": {},
   "outputs": [],
   "source": []
  }
 ],
 "metadata": {
  "kernelspec": {
   "display_name": "Python 3",
   "language": "python",
   "name": "python3"
  },
  "language_info": {
   "codemirror_mode": {
    "name": "ipython",
    "version": 3
   },
   "file_extension": ".py",
   "mimetype": "text/x-python",
   "name": "python",
   "nbconvert_exporter": "python",
   "pygments_lexer": "ipython3",
   "version": "3.5.6"
  }
 },
 "nbformat": 4,
 "nbformat_minor": 2
}
