{
 "cells": [
  {
   "cell_type": "markdown",
   "metadata": {},
   "source": [
    "# 空氣污染監測網 網路爬蟲實作練習\n",
    "\n",
    "\n",
    "* 能夠利用 selenium + BeautifulSoup 撰寫爬蟲，並存放到合適的資料結構\n"
   ]
  },
  {
   "cell_type": "markdown",
   "metadata": {},
   "source": [
    "## 作業目標\n",
    "\n",
    "根據範例 ，完成以下問題：\n",
    "\n",
    "* ① 取出 台北市士林區 2018/01 – 2018/08 的 SO2 資料\n",
    "* ② 取出 台北市士林區 2018/01 – 2018/08 的 SO2、CO 資料\n",
    "\n",
    "\n",
    "\n"
   ]
  },
  {
   "cell_type": "markdown",
   "metadata": {},
   "source": [
    "### ① 取出 台北市士林區 2018/01 – 2018/08 的 SO2 資料"
   ]
  },
  {
   "cell_type": "code",
   "execution_count": 3,
   "metadata": {},
   "outputs": [],
   "source": [
    "from selenium import webdriver\n",
    "from selenium.webdriver.support.ui import Select\n",
    "from bs4 import BeautifulSoup\n",
    "\n",
    "browser = webdriver.Chrome(executable_path='chromedriver') #開啟網頁瀏覽模擬器\n",
    "browser.get(\"http://taqm.epa.gov.tw/taqm/tw/MonthlyAverage.aspx\")"
   ]
  },
  {
   "cell_type": "code",
   "execution_count": 4,
   "metadata": {},
   "outputs": [],
   "source": [
    "selectSite = Select(browser.find_element_by_id(\"ctl05_ddlSite\"))\n",
    "selectSite.select_by_value('11')\n",
    "selectYear = Select(browser.find_element_by_id(\"ctl05_ddlYear\"))\n",
    "selectYear.select_by_value('2018')\n",
    "\n",
    "browser.find_element_by_id('ctl05_btnQuery').click()"
   ]
  },
  {
   "cell_type": "code",
   "execution_count": 33,
   "metadata": {},
   "outputs": [],
   "source": [
    "# 取得資料（等瀏覽器資料出現後才執行）\n",
    "html_source = browser.page_source\n",
    "#html_source\n",
    "soup = BeautifulSoup(html_source, 'html.parser')\n",
    "table = soup.find('table', class_='TABLE_G')"
   ]
  },
  {
   "cell_type": "code",
   "execution_count": 34,
   "metadata": {},
   "outputs": [
    {
     "name": "stdout",
     "output_type": "stream",
     "text": [
      "SO2\n"
     ]
    },
    {
     "data": {
      "text/plain": [
       "{'unit': 'ppb',\n",
       " '2018/01': '1.80',\n",
       " '2018/02': '1.90',\n",
       " '2018/03': '2.20',\n",
       " '2018/04': '2.30',\n",
       " '2018/05': '3.10',\n",
       " '2018/06': '2.70',\n",
       " '2018/07': '2.20',\n",
       " '2018/08': '2.40',\n",
       " '2018/09': '2.10',\n",
       " '2018/10': '1.70',\n",
       " '2018/11': '1.90',\n",
       " '2018/12': '1.80'}"
      ]
     },
     "execution_count": 34,
     "metadata": {},
     "output_type": "execute_result"
    }
   ],
   "source": [
    "so2 = table.find('td')\n",
    "d={} # 大括號是 Dict型態\n",
    "for i,elements in enumerate(table.find_all('td')):\n",
    "    #print(elements)\n",
    "    if(i % 38 == 0):  #一筆 物質有38個數據\n",
    "        key = elements.string\n",
    "        if(key=='THC'):break  #這筆數據有THC這個數據\n",
    "        else: d[key] = {}\n",
    "    elif (i%38 ==1): #單位 \n",
    "        d[key]['unit'] = elements.string\n",
    "    elif ((i% 38)%3 == 2): #日期\n",
    "        date = elements.string\n",
    "    elif ((i% 38)%3 == 0): #數據\n",
    "        data = elements.string\n",
    "        d[key][date] = data\n",
    "    elif ((i% 38)%3 == 1): #空白不存\n",
    "        continue\n",
    "print('SO2')\n",
    "d['SO2']"
   ]
  },
  {
   "cell_type": "markdown",
   "metadata": {},
   "source": [
    "### ② 取出 台北市士林區 2018/01 – 2018/08 的 SO2、CO 資料"
   ]
  },
  {
   "cell_type": "code",
   "execution_count": 35,
   "metadata": {},
   "outputs": [
    {
     "name": "stdout",
     "output_type": "stream",
     "text": [
      "CO\n"
     ]
    },
    {
     "data": {
      "text/plain": [
       "{'unit': 'ppm',\n",
       " '2018/01': '0.34',\n",
       " '2018/02': '0.44',\n",
       " '2018/03': '0.40',\n",
       " '2018/04': '0.38',\n",
       " '2018/05': '0.34',\n",
       " '2018/06': '0.29',\n",
       " '2018/07': '0.21',\n",
       " '2018/08': '0.30',\n",
       " '2018/09': '0.26',\n",
       " '2018/10': '0.29',\n",
       " '2018/11': '0.30',\n",
       " '2018/12': '0.35'}"
      ]
     },
     "execution_count": 35,
     "metadata": {},
     "output_type": "execute_result"
    }
   ],
   "source": [
    "print('CO')\n",
    "d['CO']"
   ]
  },
  {
   "cell_type": "code",
   "execution_count": 36,
   "metadata": {},
   "outputs": [
    {
     "data": {
      "text/html": [
       "<div>\n",
       "<style scoped>\n",
       "    .dataframe tbody tr th:only-of-type {\n",
       "        vertical-align: middle;\n",
       "    }\n",
       "\n",
       "    .dataframe tbody tr th {\n",
       "        vertical-align: top;\n",
       "    }\n",
       "\n",
       "    .dataframe thead th {\n",
       "        text-align: right;\n",
       "    }\n",
       "</style>\n",
       "<table border=\"1\" class=\"dataframe\">\n",
       "  <thead>\n",
       "    <tr style=\"text-align: right;\">\n",
       "      <th></th>\n",
       "      <th>SO2</th>\n",
       "      <th>CO</th>\n",
       "      <th>O3</th>\n",
       "      <th>PM10</th>\n",
       "      <th>NOx</th>\n",
       "      <th>NO</th>\n",
       "      <th>NO2</th>\n",
       "    </tr>\n",
       "  </thead>\n",
       "  <tbody>\n",
       "    <tr>\n",
       "      <td>unit</td>\n",
       "      <td>ppb</td>\n",
       "      <td>ppm</td>\n",
       "      <td>ppb</td>\n",
       "      <td>μg/m3</td>\n",
       "      <td>ppb</td>\n",
       "      <td>ppb</td>\n",
       "      <td>ppb</td>\n",
       "    </tr>\n",
       "    <tr>\n",
       "      <td>2018/01</td>\n",
       "      <td>1.80</td>\n",
       "      <td>0.34</td>\n",
       "      <td>33.40</td>\n",
       "      <td>23</td>\n",
       "      <td>14.17</td>\n",
       "      <td>3.41</td>\n",
       "      <td>10.77</td>\n",
       "    </tr>\n",
       "    <tr>\n",
       "      <td>2018/02</td>\n",
       "      <td>1.90</td>\n",
       "      <td>0.44</td>\n",
       "      <td>32.50</td>\n",
       "      <td>41</td>\n",
       "      <td>19.43</td>\n",
       "      <td>4.48</td>\n",
       "      <td>14.95</td>\n",
       "    </tr>\n",
       "    <tr>\n",
       "      <td>2018/03</td>\n",
       "      <td>2.20</td>\n",
       "      <td>0.40</td>\n",
       "      <td>35</td>\n",
       "      <td>39</td>\n",
       "      <td>18.50</td>\n",
       "      <td>4.93</td>\n",
       "      <td>13.56</td>\n",
       "    </tr>\n",
       "    <tr>\n",
       "      <td>2018/04</td>\n",
       "      <td>2.30</td>\n",
       "      <td>0.38</td>\n",
       "      <td>38.40</td>\n",
       "      <td>48</td>\n",
       "      <td>15.24</td>\n",
       "      <td>2.60</td>\n",
       "      <td>12.64</td>\n",
       "    </tr>\n",
       "    <tr>\n",
       "      <td>2018/05</td>\n",
       "      <td>3.10</td>\n",
       "      <td>0.34</td>\n",
       "      <td>31.60</td>\n",
       "      <td>37</td>\n",
       "      <td>15.20</td>\n",
       "      <td>2.26</td>\n",
       "      <td>12.94</td>\n",
       "    </tr>\n",
       "    <tr>\n",
       "      <td>2018/06</td>\n",
       "      <td>2.70</td>\n",
       "      <td>0.29</td>\n",
       "      <td>29.50</td>\n",
       "      <td>26</td>\n",
       "      <td>13.79</td>\n",
       "      <td>2.41</td>\n",
       "      <td>11.38</td>\n",
       "    </tr>\n",
       "    <tr>\n",
       "      <td>2018/07</td>\n",
       "      <td>2.20</td>\n",
       "      <td>0.21</td>\n",
       "      <td>18.70</td>\n",
       "      <td>24</td>\n",
       "      <td>11.60</td>\n",
       "      <td>2.68</td>\n",
       "      <td>8.92</td>\n",
       "    </tr>\n",
       "    <tr>\n",
       "      <td>2018/08</td>\n",
       "      <td>2.40</td>\n",
       "      <td>0.30</td>\n",
       "      <td>26.40</td>\n",
       "      <td>26</td>\n",
       "      <td>14.75</td>\n",
       "      <td>2.68</td>\n",
       "      <td>12.08</td>\n",
       "    </tr>\n",
       "    <tr>\n",
       "      <td>2018/09</td>\n",
       "      <td>2.10</td>\n",
       "      <td>0.26</td>\n",
       "      <td>29.10</td>\n",
       "      <td>28</td>\n",
       "      <td>12.40</td>\n",
       "      <td>2.41</td>\n",
       "      <td>10</td>\n",
       "    </tr>\n",
       "    <tr>\n",
       "      <td>2018/10</td>\n",
       "      <td>1.70</td>\n",
       "      <td>0.29</td>\n",
       "      <td>45.90</td>\n",
       "      <td>33</td>\n",
       "      <td>12.45</td>\n",
       "      <td>2.13</td>\n",
       "      <td>10.33</td>\n",
       "    </tr>\n",
       "    <tr>\n",
       "      <td>2018/11</td>\n",
       "      <td>1.90</td>\n",
       "      <td>0.30</td>\n",
       "      <td>32.40</td>\n",
       "      <td>25</td>\n",
       "      <td>13.41</td>\n",
       "      <td>2.71</td>\n",
       "      <td>10.71</td>\n",
       "    </tr>\n",
       "    <tr>\n",
       "      <td>2018/12</td>\n",
       "      <td>1.80</td>\n",
       "      <td>0.35</td>\n",
       "      <td>30.70</td>\n",
       "      <td>21</td>\n",
       "      <td>14.56</td>\n",
       "      <td>3.42</td>\n",
       "      <td>11.15</td>\n",
       "    </tr>\n",
       "  </tbody>\n",
       "</table>\n",
       "</div>"
      ],
      "text/plain": [
       "          SO2    CO     O3   PM10    NOx    NO    NO2\n",
       "unit      ppb   ppm    ppb  μg/m3    ppb   ppb    ppb\n",
       "2018/01  1.80  0.34  33.40     23  14.17  3.41  10.77\n",
       "2018/02  1.90  0.44  32.50     41  19.43  4.48  14.95\n",
       "2018/03  2.20  0.40     35     39  18.50  4.93  13.56\n",
       "2018/04  2.30  0.38  38.40     48  15.24  2.60  12.64\n",
       "2018/05  3.10  0.34  31.60     37  15.20  2.26  12.94\n",
       "2018/06  2.70  0.29  29.50     26  13.79  2.41  11.38\n",
       "2018/07  2.20  0.21  18.70     24  11.60  2.68   8.92\n",
       "2018/08  2.40  0.30  26.40     26  14.75  2.68  12.08\n",
       "2018/09  2.10  0.26  29.10     28  12.40  2.41     10\n",
       "2018/10  1.70  0.29  45.90     33  12.45  2.13  10.33\n",
       "2018/11  1.90  0.30  32.40     25  13.41  2.71  10.71\n",
       "2018/12  1.80  0.35  30.70     21  14.56  3.42  11.15"
      ]
     },
     "execution_count": 36,
     "metadata": {},
     "output_type": "execute_result"
    }
   ],
   "source": [
    "import pandas as pd\n",
    "\n",
    "pd.DataFrame(d) "
   ]
  },
  {
   "cell_type": "code",
   "execution_count": null,
   "metadata": {},
   "outputs": [],
   "source": []
  }
 ],
 "metadata": {
  "kernelspec": {
   "display_name": "Python 3",
   "language": "python",
   "name": "python3"
  },
  "language_info": {
   "codemirror_mode": {
    "name": "ipython",
    "version": 3
   },
   "file_extension": ".py",
   "mimetype": "text/x-python",
   "name": "python",
   "nbconvert_exporter": "python",
   "pygments_lexer": "ipython3",
   "version": "3.7.4"
  }
 },
 "nbformat": 4,
 "nbformat_minor": 2
}
