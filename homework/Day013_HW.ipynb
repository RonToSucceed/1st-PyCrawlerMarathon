{
 "cells": [
  {
   "cell_type": "markdown",
   "metadata": {},
   "source": [
    "# PTT 網路爬蟲實作練習\n",
    "\n",
    "\n",
    "* 能夠利用 Request + BeatifulSour 撰寫爬蟲，並存放到合適的資料結構\n"
   ]
  },
  {
   "cell_type": "markdown",
   "metadata": {},
   "source": [
    "## 作業目標\n",
    "\n",
    "根據範例 ，完成以下問題：\n",
    "\n",
    "* ① 印出最新文章的「作者」「標題」「時間」\n",
    "* ② 印出第一頁所有文章的「作者」「標題」「時間」\n"
   ]
  },
  {
   "cell_type": "markdown",
   "metadata": {},
   "source": [
    "### ① 印出最新文章的「作者」「標題」「時間」"
   ]
  },
  {
   "cell_type": "code",
   "execution_count": 68,
   "metadata": {},
   "outputs": [],
   "source": [
    "import requests\n",
    "from bs4 import BeautifulSoup as BS"
   ]
  },
  {
   "cell_type": "code",
   "execution_count": 69,
   "metadata": {},
   "outputs": [
    {
     "name": "stdout",
     "output_type": "stream",
     "text": [
      "標題： Re: [情報] 嘴綠快攻空拋打板傳球....隊友沒人接到\n",
      "作者： kairiyu (E N O U G H  is  enough)\n",
      "發布時間： Mon Dec 16 14:59:21 2019\n"
     ]
    }
   ],
   "source": [
    "url = 'https://www.ptt.cc/bbs/NBA/index.html'\n",
    "myHeader = {'User-Agent': 'Mozilla/5.0 (Windows NT 10.0; Win64; x64; rv:71.0) Gecko/20100101 Firefox/71.0'}\n",
    "\n",
    "#爬該類表的首頁\n",
    "res = requests.get(url, headers = myHeader)\n",
    "soup = BS(res.text,'html5lib') \n",
    "author1 = soup.find(class_='author').text #在首頁找作者--沒有點進文章裡\n",
    "title1 = soup.find(class_='title').text.replace('\\t','').replace('\\n','') #找標題\n",
    "\n",
    "#爬下一層網頁\n",
    "searchURL1 = soup.find(class_='title').find('a')['href'] #這樣找只有第一個文章的網址\n",
    "articleLink1 = 'https://www.ptt.cc'+searchURL\n",
    "resArticle = requests.get(articleLink1, headers = myHeader)\n",
    "soup2 = BS(resArticle.text,'html5lib')\n",
    "\n",
    "searchMetaValue =soup2.find_all(class_='article-meta-value')\n",
    "authorAll = searchMetaValue[0].text #進入文章找作者--會有作者的nickname\n",
    "time1 = searchMetaValue[-1].text #日期時間\n",
    "\n",
    "\n",
    "print('標題：',title1)\n",
    "print('作者：',authorAll)\n",
    "print('發布時間：',time1)\n"
   ]
  },
  {
   "cell_type": "markdown",
   "metadata": {},
   "source": [
    "### ② 印出第一頁所有文章的「作者」「標題」「時間」"
   ]
  },
  {
   "cell_type": "code",
   "execution_count": 79,
   "metadata": {},
   "outputs": [],
   "source": [
    "def PTTsearch(url, myHeader):\n",
    "    res = requests.get(url,headers = myHeader,cookies={'over18':'1'})\n",
    "    soup = BS(res.text,'html5lib')\n",
    "    titleAll = soup.find_all(class_='title')\n",
    "    for t in titleAll:\n",
    "        try:\n",
    "            link = t.find('a')['href']\n",
    "            articleLink = 'https://www.ptt.cc'+link\n",
    "            resLink = requests.get(articleLink, headers = myHeader)\n",
    "            soup3 = BS(resLink.text,'html5lib')\n",
    "            metaValue = soup3.find_all(class_= 'article-meta-value')\n",
    "            author = metaValue[0].text\n",
    "            time = metaValue[-1].text\n",
    "\n",
    "            print('標題：',t.text.replace('\\t','').replace('\\n',''))\n",
    "            print('作者：',author)\n",
    "            print('發布時間：',time)\n",
    "            print('---------------------------------------')\n",
    "        except:\n",
    "            continue"
   ]
  },
  {
   "cell_type": "code",
   "execution_count": 80,
   "metadata": {},
   "outputs": [
    {
     "name": "stdout",
     "output_type": "stream",
     "text": [
      "標題： Re: [情報] 嘴綠快攻空拋打板傳球....隊友沒人接到\n",
      "作者： kairiyu (E N O U G H  is  enough)\n",
      "發布時間： Mon Dec 16 14:59:21 2019\n",
      "---------------------------------------\n",
      "標題： [新聞] 布萊德索將休兵2週 字母哥：球隊有足夠深\n",
      "作者： phoenix286 (糰子大家族)\n",
      "發布時間： Mon Dec 16 15:14:23 2019\n",
      "---------------------------------------\n",
      "標題： [情報] 真的很難！格林賽後爆粗口：從各個角度來\n",
      "作者： kakala99 (Fernando Torres #9)\n",
      "發布時間： Mon Dec 16 15:24:08 2019\n",
      "---------------------------------------\n",
      "標題： [花邊] 奧尼爾曬OK組合和詹眉組合對位圖：2對2你\n",
      "作者： KyrieIrving1 (King of New York)\n",
      "發布時間： Mon Dec 16 15:40:30 2019\n",
      "---------------------------------------\n",
      "標題： [花邊] LBJ談Carter: 他是史上最佳的實戰扣將\n",
      "作者： ColeNorris (Cole)\n",
      "發布時間： Mon Dec 16 15:47:06 2019\n",
      "---------------------------------------\n",
      "標題： [外絮] Woj: 現在的火箭正處在危急關頭\n",
      "作者： pneumo (超☆冒險蓋)\n",
      "發布時間： Mon Dec 16 15:48:19 2019\n",
      "---------------------------------------\n",
      "標題： Re: [討論] 健康的Fultz好可怕\n",
      "作者： ios5566 (都過氣了)\n",
      "發布時間： Mon Dec 16 15:49:13 2019\n",
      "---------------------------------------\n",
      "標題： [新聞] 羅素本季暫留勇士機會高 沃神：季中交易\n",
      "作者： asdf1256 (guest)\n",
      "發布時間： Mon Dec 16 16:09:48 2019\n",
      "---------------------------------------\n",
      "標題： [花邊] 湖人客場14連勝 平聯盟史上第3長紀錄\n",
      "作者： thnlkj0665 (灰色地帶)\n",
      "發布時間： Mon Dec 16 16:10:11 2019\n",
      "---------------------------------------\n",
      "標題： [新聞] 3度遭熱火禁賽 威斯特飯碗恐不保\n",
      "作者： Israfil (贖罪聖音)\n",
      "發布時間： Mon Dec 16 16:35:57 2019\n",
      "---------------------------------------\n",
      "標題： [新聞] 國王29失誤仍贏球 柯爾：從沒看過\n",
      "作者： Angel0724 (ND5)\n",
      "發布時間： Mon Dec 16 17:11:05 2019\n",
      "---------------------------------------\n",
      "標題： [花邊] Hayward社交媒體曬照，與女兒們歡度聖誕派對\n",
      "作者： kairiyu (E N O U G H  is  enough)\n",
      "發布時間： Mon Dec 16 17:12:09 2019\n",
      "---------------------------------------\n",
      "標題： Re: [花邊] 奧尼爾曬OK組合和詹眉組合對位圖：2對2你\n",
      "作者： snakeback (Baz)\n",
      "發布時間： Mon Dec 16 17:14:47 2019\n",
      "---------------------------------------\n",
      "標題： [公告] 樂透取消及未來不再開啟樂透\n",
      "作者： Vedan (味丹)\n",
      "發布時間： Mon Jun 24 15:08:02 2019\n",
      "---------------------------------------\n",
      "標題： [公告] 版主上任相關事項 \n",
      "作者： qazwsx879345 (Rajon Rondo)\n",
      "發布時間： Fri Oct 25 10:44:03 2019\n",
      "---------------------------------------\n",
      "標題： [情報] SEASON Schedule 賽程 December 19–20\n",
      "作者： JerroLi (銀色小刀)\n",
      "發布時間： Fri Nov 29 00:46:01 2019\n",
      "---------------------------------------\n"
     ]
    }
   ],
   "source": [
    "urlNBA = 'https://www.ptt.cc/bbs/NBA/index.html'\n",
    "PTTsearch(urlNBA,myHeader)"
   ]
  },
  {
   "cell_type": "markdown",
   "metadata": {},
   "source": [
    "### ③ 試著爬爬看其他版的文章"
   ]
  },
  {
   "cell_type": "code",
   "execution_count": 81,
   "metadata": {},
   "outputs": [
    {
     "name": "stdout",
     "output_type": "stream",
     "text": [
      "標題： Re: [閒聊] 965\n",
      "作者： skyskill (  無欲則剛)\n",
      "發布時間： Sat Dec 14 02:17:53 2019\n",
      "---------------------------------------\n",
      "標題： [公告] ONE_PIECE 樂透取消\n",
      "作者： [彩券]\n",
      "發布時間： Sat Dec 14 15:31:01 2019\n",
      "---------------------------------------\n",
      "標題： [閒聊] 一直回顧御田 太無聊了（雷）\n",
      "作者： ppp123 (鋼鐵韓粉-P哥)\n",
      "發布時間： Sun Dec 15 11:51:17 2019\n",
      "---------------------------------------\n",
      "標題： [閒聊] 羅傑如何知道自己快死掉?有雷\n",
      "作者： Saytzev (good)\n",
      "發布時間： Sun Dec 15 20:29:45 2019\n",
      "---------------------------------------\n",
      "標題： [閒聊] 阿拉巴斯坦的多托角色設定\n",
      "作者： treeboymsyan (yogurt inn!!)\n",
      "發布時間： Mon Dec 16 01:08:04 2019\n",
      "---------------------------------------\n",
      "標題： [公告] 多人水桶\n",
      "作者： cabokino (別看我，我剛笑到胃痛～)\n",
      "發布時間： Mon Dec 16 13:23:08 2019\n",
      "---------------------------------------\n",
      "標題： [閒聊] 御田根本就超級自私吧 (雷)\n",
      "作者： ununnihao (安安你好)\n",
      "發布時間： Mon Dec 16 14:36:05 2019\n",
      "---------------------------------------\n",
      "標題： Re: [閒聊] 羅傑如何知道自己快死掉?有雷\n",
      "作者： fct (燚)\n",
      "發布時間： Mon Dec 16 14:47:08 2019\n",
      "---------------------------------------\n",
      "標題： [公告] 閒聊、交換、贈送、代購、合購 置底區\n",
      "作者： cabokino (別看我，我剛笑到胃痛～)\n",
      "發布時間： Sun Sep 22 02:01:35 2019\n",
      "---------------------------------------\n",
      "標題： [公告] 板規6.3\n",
      "作者： cabokino (卡布其諾)\n",
      "發布時間： Tue Jun 19 10:41:24 2018\n",
      "---------------------------------------\n",
      "標題： [公告] 13th板主徵選v4開始\n",
      "作者： cabokino (別看我，我剛笑到胃痛～)\n",
      "發布時間： Tue Oct 22 14:35:26 2019\n",
      "---------------------------------------\n"
     ]
    }
   ],
   "source": [
    "urlOP = 'https://www.ptt.cc/bbs/ONE_PIECE/index.html'\n",
    "PTTsearch(urlOP,myHeader)"
   ]
  },
  {
   "cell_type": "code",
   "execution_count": null,
   "metadata": {},
   "outputs": [],
   "source": []
  }
 ],
 "metadata": {
  "kernelspec": {
   "display_name": "Python 3",
   "language": "python",
   "name": "python3"
  },
  "language_info": {
   "codemirror_mode": {
    "name": "ipython",
    "version": 3
   },
   "file_extension": ".py",
   "mimetype": "text/x-python",
   "name": "python",
   "nbconvert_exporter": "python",
   "pygments_lexer": "ipython3",
   "version": "3.5.6"
  }
 },
 "nbformat": 4,
 "nbformat_minor": 2
}
